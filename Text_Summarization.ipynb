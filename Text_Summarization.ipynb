{
  "nbformat": 4,
  "nbformat_minor": 0,
  "metadata": {
    "colab": {
      "name": "Text_Summarization.ipynb",
      "provenance": [],
      "collapsed_sections": []
    },
    "kernelspec": {
      "name": "python3",
      "display_name": "Python 3"
    }
  },
  "cells": [
    {
      "cell_type": "code",
      "metadata": {
        "id": "1ve6h23zHl8k"
      },
      "source": [
        "#Import packages\n",
        "import spacy\n",
        "from spacy.lang.en.stop_words import STOP_WORDS\n",
        "from string import punctuation\n",
        "from heapq import nlargest\n",
        "\n",
        "#Load spacy model\n",
        "nlp = spacy.load(\"en_core_web_sm\")"
      ],
      "execution_count": 1,
      "outputs": []
    },
    {
      "cell_type": "code",
      "metadata": {
        "id": "IXC6sWsTCfnQ"
      },
      #Using the whole text for displaying purposes
      "source": [
        "text = \"\"\"The ultimate productivity hack is saying no. Not doing something will always be faster than doing it. This statement reminds me \n",
        "of the old computer programming saying, Remember that there is no code faster than no code. The same philosophy applies in other areas \n",
        "of life. For example, there is no meeting that goes faster than not having a meeting at all. This is not to say you should never attend \n",
        "another meeting, but the truth is that we say yes to many things we don't actually want to do. There are many meetings held that don't \n",
        "need to be held. There is a lot of code written that could be deleted. How often do people ask you to do something and you just reply, \n",
        "Sure thing. Three days later, you're overwhelmed by how much is on your to-do list. We become frustrated by our obligations \n",
        "even though we were the ones who said yes to them in the first place. It's worth asking if things are necessary. Many of them are not, \n",
        "and a simple no will be more productive than whatever work the most efficient person can muster. But if the benefits of saying no \n",
        "are so obvious, then why do we say yes so often? We agree to many requests not because we want to do them, but because we don't want \n",
        "to be seen as rude, arrogant, or unhelpful. Often, you have to consider saying no to someone you will interact with again in the \n",
        "future—your co-worker, your spouse, your family and friends. Saying no to these people can be particularly difficult because we like them \n",
        "and want to support them. (Not to mention, we often need their help too.) Collaborating with others is an important element of life. The thought of straining \n",
        "the relationship outweighs the commitment of our time and energy. For this reason, it can be helpful to be gracious in your response. \n",
        "Do whatever favors you can, and be warm-hearted and direct when you have to say no. But even after we have accounted for these social considerations, \n",
        "many of us still seem to do a poor job of managing the tradeoff between yes and no. We find ourselves over-committed to things that \n",
        "don't meaningfully improve or support those around us, and certainly don't improve our own lives. Perhaps one issue is how we think \n",
        "about the meaning of yes and no. The words yes and no get used in comparison to each other so often that it feels like they \n",
        "carry equal weight in conversation. In reality, they are not just opposite in meaning, but of entirely different magnitudes in commitment. \n",
        "When you say no, you are only saying no to one option. When you say yes, you are saying no to every other option. I like how the economist Tim Harford put it, \n",
        "Every time we say yes to a request, we are also saying no to anything else we might accomplish with the time. Once you have committed to something, \n",
        "you have already decided how that future block of time will be spent. In other words, saying no saves you time in the future. Saying yes costs you time in the future. \n",
        "No is a form of time credit. You retain the ability to spend your future time however you want. Yes is a form of time debt. \n",
        "You have to pay back your commitment at some point. No is a decision. Yes is a responsibility. Saying no is sometimes seen as a luxury \n",
        "that only those in power can afford. And it is true: turning down opportunities is easier when you can fall back on the safety net \n",
        "provided by power, money, and authority. But it is also true that saying no is not merely a privilege reserved for the successful among us. It is also a strategy that can help you \n",
        "become successful. Saying no is an important skill to develop at any stage of your career because it retains the most important asset in life: your time. \n",
        "As the investor Pedro Sorrentino put it, If you don’t guard your time, people will steal it from you. You need to say no to whatever isn't leading \n",
        "you toward your goals. You need to say no to distractions. As one reader told me, 'If you broaden the definition as to how you apply no, it actually is the only \n",
        "productivity hack (as you ultimately say no to any distraction in order to be productive). Nobody embodied this idea better than Steve Jobs, \n",
        "who said, People think focus means saying yes to the thing you’ve got to focus on. But that’s not what it means at all. It \n",
        "means saying no to the hundred other good ideas that there are. You have to pick carefully. There is an important balance to strike here. \n",
        "Saying no doesn't mean you'll never do anything interesting or innovative or spontaneous. It just means that you say yes in a focused way.\"\"\""
      ],
      "execution_count": 2,
      "outputs": []
    },
    {
      "cell_type": "code",
      "metadata": {
        "id": "M1eAAq8JB7ew"
      },
      "source": [
        "#Get sentences \n",
        "def get_sentences(text):\n",
        "\n",
        "    data = nlp(text)\n",
        "    sentences = [sentence for sentence in data.sents]\n",
        "\n",
        "    return sentences"
      ],
      "execution_count": 3,
      "outputs": []
    },
    {
      "cell_type": "code",
      "metadata": {
        "id": "UlWWGEZdBjWe"
      },
      "source": [
        "#Get individual tokens\n",
        "def get_tokens(text):\n",
        "\n",
        "    data = nlp(text)\n",
        "    tokens = [token.text for token in data]\n",
        "\n",
        "    return tokens"
      ],
      "execution_count": 4,
      "outputs": []
    },
    {
      "cell_type": "code",
      "metadata": {
        "id": "EMpVx2SwNHjO"
      },
      "source": [
        "#Text Cleaning\n",
        "#Create a Word Frequency Counter\n",
        "def get_word_frequency(words): \n",
        "    word_frequency = {}\n",
        "\n",
        "    #Enhance punctuation\n",
        "    punctuation == punctuation + '\\n' + '—'\n",
        "    #Get stop words\n",
        "    stop_words = list(STOP_WORDS)\n",
        "\n",
        "    for token in tokens:\n",
        "        #check if the word belongs in punctuation/stopwords list\n",
        "        if token.lower() not in stop_words:\n",
        "          if token.lower() not in punctuation:\n",
        "            if token not in word_frequency.keys():\n",
        "              word_frequency[token] = 1\n",
        "            else:\n",
        "              word_frequency[token] += 1\n",
        "\n",
        "    #Get max frequency\n",
        "    max_freq = max(word_frequency.values())\n",
        "    #Normalize all values based on the max frequency value\n",
        "    for word in word_frequency.keys():\n",
        "        word_frequency[word] = word_frequency[word] / max_freq\n",
        "\n",
        "    return word_frequency"
      ],
      "execution_count": 5,
      "outputs": []
    },
    {
      "cell_type": "code",
      "metadata": {
        "id": "Hso1MNa9QUoy"
      },
      "source": [
        "#Tokenization\n",
        "def sent_tokenization(sentences):\n",
        "    #Get score per sentence based on word frequency\n",
        "    sent_score = {}\n",
        "\n",
        "    for sentence in sentences:\n",
        "      for word in sentence:\n",
        "        if word.text.lower() in word_freq.keys():\n",
        "          if sentence not in sent_score.keys():\n",
        "            sent_score[sentence] = word_freq[word.text.lower()]\n",
        "          else:\n",
        "            sent_score[sentence] += word_freq[word.text.lower()]\n",
        "\n",
        "    return sent_score"
      ],
      "execution_count": 6,
      "outputs": []
    },
    {
      "cell_type": "code",
      "metadata": {
        "id": "ibgkZsRIJItL"
      },
      "source": [
        "sentences = get_sentences(text)\n",
        "tokens = get_tokens(text)\n",
        "\n",
        "word_freq = get_word_frequency(tokens)"
      ],
      "execution_count": 7,
      "outputs": []
    },
    {
      "cell_type": "code",
      "metadata": {
        "id": "s1KT92FMQUrt"
      },
      "source": [
        "#Get 30% of sentences with maximum score\n",
        "sent_score = sent_tokenization(sentences)\n",
        "sent_part = int(len(sent_score) * 0.3)\n",
        "\n",
        "#Get the summary\n",
        "portion = nlargest(n = sent_part, iterable = sent_score, key = sent_score.get)\n",
        "summary = [word.text for word in portion]\n",
        "\n",
        "summary = \" \".join(summary)"
      ],
      "execution_count": 8,
      "outputs": []
    },
    {
      "cell_type": "code",
      "metadata": {
        "colab": {
          "base_uri": "https://localhost:8080/"
        },
        "id": "i9XLP8_2ISp1",
        "outputId": "fdaeb5b0-8613-40d7-a13e-6f50bb9f8b80"
      },
      "source": [
        "print(summary)"
      ],
      "execution_count": 9,
      "outputs": [
        {
          "output_type": "stream",
          "text": [
            "Nobody embodied this idea better than Steve Jobs, \n",
            "who said, People think focus means saying yes to the thing you’ve got to focus on. Saying yes costs you time in the future. \n",
            " Saying no is an important skill to develop at any stage of your career because it retains the most important asset in life: your time. \n",
            " Saying no to these people can be particularly difficult because we like them \n",
            "and want to support them. Yes is a form of time debt. \n",
            " This statement reminds me \n",
            "of the old computer programming saying, Remember that there is no code faster than no code. But if the benefits of saying no \n",
            "are so obvious, then why do we say yes so often? Often, you have to consider saying no to someone you will interact with again in the \n",
            "future—your co-worker, your spouse, your family and friends. Once you have committed to something, \n",
            "you have already decided how that future block of time will be spent. We become frustrated by our obligations \n",
            "even though we were the ones who said yes to them in the first place. We agree to many requests not because we want to do them, but because we don't want \n",
            "to be seen as rude, arrogant, or unhelpful. It \n",
            "means saying no to the hundred other good ideas that there are. Perhaps one issue is how we think \n",
            "about the meaning of yes and no. As one reader told me, 'If you broaden the definition as to how you apply no, it actually is the only \n",
            "productivity hack (as you ultimately say no to any distraction in order to be productive). Every time we say yes to a request, we are also saying no to anything else we might accomplish with the time. We find ourselves over-committed to things that \n",
            "don't meaningfully improve or support those around us, and certainly don't improve our own lives. Saying no is sometimes seen as a luxury \n",
            " And it is true: turning down opportunities is easier when you can fall back on the safety net \n",
            "provided by power, money, and authority. In reality, they are not just opposite in meaning, but of entirely different magnitudes in commitment. \n",
            "\n"
          ],
          "name": "stdout"
        }
      ]
    }
  ]
}
