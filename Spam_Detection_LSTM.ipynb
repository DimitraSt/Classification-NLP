{
  "nbformat": 4,
  "nbformat_minor": 0,
  "metadata": {
    "colab": {
      "name": "Spam_Detection_LSTM.ipynb",
      "provenance": []
    },
    "kernelspec": {
      "name": "python3",
      "display_name": "Python 3"
    }
  },
  "cells": [
    {
      "cell_type": "code",
      "metadata": {
        "id": "VAV5lf87zhZF"
      },
      "source": [
        "#Spam Detection project using RNNs with Tensorflow"
      ],
      "execution_count": 1,
      "outputs": []
    },
    {
      "cell_type": "code",
      "metadata": {
        "colab": {
          "base_uri": "https://localhost:8080/"
        },
        "id": "ETOdEpJhXUQa",
        "outputId": "12b0636a-718d-46a6-afc2-756b1570fbdd"
      },
      "source": [
        "#Import packages\n",
        "import tensorflow as tf\n",
        "print(tf.__version__)\n",
        "\n",
        "import numpy as np\n",
        "import pandas as pd\n",
        "import matplotlib.pyplot as plt\n",
        "from sklearn.model_selection import train_test_split\n",
        "from tensorflow.keras.preprocessing.text import Tokenizer\n",
        "from tensorflow.keras.preprocessing.sequence import pad_sequences\n",
        "from tensorflow.keras.layers import Dense, Input, GlobalMaxPooling1D, LSTM, Embedding\n",
        "from tensorflow.keras.models import Model\n"
      ],
      "execution_count": 2,
      "outputs": [
        {
          "output_type": "stream",
          "text": [
            "2.3.0\n"
          ],
          "name": "stdout"
        }
      ]
    },
    {
      "cell_type": "code",
      "metadata": {
        "colab": {
          "base_uri": "https://localhost:8080/",
          "height": 204
        },
        "id": "amS0O13mXUTA",
        "outputId": "3b660f4c-2cdf-4e10-dd56-405ef223e773"
      },
      "source": [
        "#Read the data\n",
        "data = pd.read_csv('spam.csv', encoding='ISO-8859-1')\n",
        "data.head()"
      ],
      "execution_count": 3,
      "outputs": [
        {
          "output_type": "execute_result",
          "data": {
            "text/html": [
              "<div>\n",
              "<style scoped>\n",
              "    .dataframe tbody tr th:only-of-type {\n",
              "        vertical-align: middle;\n",
              "    }\n",
              "\n",
              "    .dataframe tbody tr th {\n",
              "        vertical-align: top;\n",
              "    }\n",
              "\n",
              "    .dataframe thead th {\n",
              "        text-align: right;\n",
              "    }\n",
              "</style>\n",
              "<table border=\"1\" class=\"dataframe\">\n",
              "  <thead>\n",
              "    <tr style=\"text-align: right;\">\n",
              "      <th></th>\n",
              "      <th>v1</th>\n",
              "      <th>v2</th>\n",
              "      <th>Unnamed: 2</th>\n",
              "      <th>Unnamed: 3</th>\n",
              "      <th>Unnamed: 4</th>\n",
              "    </tr>\n",
              "  </thead>\n",
              "  <tbody>\n",
              "    <tr>\n",
              "      <th>0</th>\n",
              "      <td>ham</td>\n",
              "      <td>Go until jurong point, crazy.. Available only ...</td>\n",
              "      <td>NaN</td>\n",
              "      <td>NaN</td>\n",
              "      <td>NaN</td>\n",
              "    </tr>\n",
              "    <tr>\n",
              "      <th>1</th>\n",
              "      <td>ham</td>\n",
              "      <td>Ok lar... Joking wif u oni...</td>\n",
              "      <td>NaN</td>\n",
              "      <td>NaN</td>\n",
              "      <td>NaN</td>\n",
              "    </tr>\n",
              "    <tr>\n",
              "      <th>2</th>\n",
              "      <td>spam</td>\n",
              "      <td>Free entry in 2 a wkly comp to win FA Cup fina...</td>\n",
              "      <td>NaN</td>\n",
              "      <td>NaN</td>\n",
              "      <td>NaN</td>\n",
              "    </tr>\n",
              "    <tr>\n",
              "      <th>3</th>\n",
              "      <td>ham</td>\n",
              "      <td>U dun say so early hor... U c already then say...</td>\n",
              "      <td>NaN</td>\n",
              "      <td>NaN</td>\n",
              "      <td>NaN</td>\n",
              "    </tr>\n",
              "    <tr>\n",
              "      <th>4</th>\n",
              "      <td>ham</td>\n",
              "      <td>Nah I don't think he goes to usf, he lives aro...</td>\n",
              "      <td>NaN</td>\n",
              "      <td>NaN</td>\n",
              "      <td>NaN</td>\n",
              "    </tr>\n",
              "  </tbody>\n",
              "</table>\n",
              "</div>"
            ],
            "text/plain": [
              "     v1  ... Unnamed: 4\n",
              "0   ham  ...        NaN\n",
              "1   ham  ...        NaN\n",
              "2  spam  ...        NaN\n",
              "3   ham  ...        NaN\n",
              "4   ham  ...        NaN\n",
              "\n",
              "[5 rows x 5 columns]"
            ]
          },
          "metadata": {
            "tags": []
          },
          "execution_count": 3
        }
      ]
    },
    {
      "cell_type": "code",
      "metadata": {
        "id": "63cwzyIfXUWG"
      },
      "source": [
        "#Data Preprocessing\n",
        "#Remove unnecessary columns\n",
        "data = data.drop(columns=['Unnamed: 2','Unnamed: 3','Unnamed: 4'], axis=1)"
      ],
      "execution_count": 4,
      "outputs": []
    },
    {
      "cell_type": "code",
      "metadata": {
        "colab": {
          "base_uri": "https://localhost:8080/",
          "height": 204
        },
        "id": "XyyMf9jpXUX7",
        "outputId": "9130a2bb-0a58-4f5e-a345-a29c76c44c1f"
      },
      "source": [
        "#Rename the rest of columns\n",
        "data.columns = ['Label', 'Data']\n",
        "data.head()"
      ],
      "execution_count": 5,
      "outputs": [
        {
          "output_type": "execute_result",
          "data": {
            "text/html": [
              "<div>\n",
              "<style scoped>\n",
              "    .dataframe tbody tr th:only-of-type {\n",
              "        vertical-align: middle;\n",
              "    }\n",
              "\n",
              "    .dataframe tbody tr th {\n",
              "        vertical-align: top;\n",
              "    }\n",
              "\n",
              "    .dataframe thead th {\n",
              "        text-align: right;\n",
              "    }\n",
              "</style>\n",
              "<table border=\"1\" class=\"dataframe\">\n",
              "  <thead>\n",
              "    <tr style=\"text-align: right;\">\n",
              "      <th></th>\n",
              "      <th>Label</th>\n",
              "      <th>Data</th>\n",
              "    </tr>\n",
              "  </thead>\n",
              "  <tbody>\n",
              "    <tr>\n",
              "      <th>0</th>\n",
              "      <td>ham</td>\n",
              "      <td>Go until jurong point, crazy.. Available only ...</td>\n",
              "    </tr>\n",
              "    <tr>\n",
              "      <th>1</th>\n",
              "      <td>ham</td>\n",
              "      <td>Ok lar... Joking wif u oni...</td>\n",
              "    </tr>\n",
              "    <tr>\n",
              "      <th>2</th>\n",
              "      <td>spam</td>\n",
              "      <td>Free entry in 2 a wkly comp to win FA Cup fina...</td>\n",
              "    </tr>\n",
              "    <tr>\n",
              "      <th>3</th>\n",
              "      <td>ham</td>\n",
              "      <td>U dun say so early hor... U c already then say...</td>\n",
              "    </tr>\n",
              "    <tr>\n",
              "      <th>4</th>\n",
              "      <td>ham</td>\n",
              "      <td>Nah I don't think he goes to usf, he lives aro...</td>\n",
              "    </tr>\n",
              "  </tbody>\n",
              "</table>\n",
              "</div>"
            ],
            "text/plain": [
              "  Label                                               Data\n",
              "0   ham  Go until jurong point, crazy.. Available only ...\n",
              "1   ham                      Ok lar... Joking wif u oni...\n",
              "2  spam  Free entry in 2 a wkly comp to win FA Cup fina...\n",
              "3   ham  U dun say so early hor... U c already then say...\n",
              "4   ham  Nah I don't think he goes to usf, he lives aro..."
            ]
          },
          "metadata": {
            "tags": []
          },
          "execution_count": 5
        }
      ]
    },
    {
      "cell_type": "code",
      "metadata": {
        "id": "T0I-oTwsZnie"
      },
      "source": [
        "#Convert object type labels to binary type labels\n",
        "data['Binary'] = data['Label'].map({'ham': 0, 'spam': 1})\n",
        "y = data['Binary'].values"
      ],
      "execution_count": 6,
      "outputs": []
    },
    {
      "cell_type": "code",
      "metadata": {
        "id": "HRjYP-FaZ0ZC"
      },
      "source": [
        "#Split data into Train/Test sets\n",
        "x_train, x_test, y_train, y_test = train_test_split(data['Data'], y, test_size=0.33)"
      ],
      "execution_count": 7,
      "outputs": []
    },
    {
      "cell_type": "code",
      "metadata": {
        "id": "8EG1eTn9Z0bb"
      },
      "source": [
        "#Convert sentences to sequences\n",
        "max_vocab_size = 20000\n",
        "#tokenization\n",
        "tokenizer = Tokenizer(num_words=max_vocab_size)\n",
        "#fit train data into tokenizer object\n",
        "tokenizer.fit_on_texts(x_train)\n",
        "#transform text into sequences on both sets\n",
        "sequence_train = tokenizer.texts_to_sequences(x_train)\n",
        "sequence_test = tokenizer.texts_to_sequences(x_test)"
      ],
      "execution_count": 8,
      "outputs": []
    },
    {
      "cell_type": "code",
      "metadata": {
        "colab": {
          "base_uri": "https://localhost:8080/"
        },
        "id": "M04lR9MUZ0eC",
        "outputId": "5521f514-aec3-430b-e38a-f4a8e56160d1"
      },
      "source": [
        "#Get the vocabulary\n",
        "word2idx = tokenizer.word_index\n",
        "V = len(word2idx)\n",
        "\n",
        "print('Total number of unique tokens is %s' % V)"
      ],
      "execution_count": 9,
      "outputs": [
        {
          "output_type": "stream",
          "text": [
            "Total number of unique tokens is 7098\n"
          ],
          "name": "stdout"
        }
      ]
    },
    {
      "cell_type": "code",
      "metadata": {
        "colab": {
          "base_uri": "https://localhost:8080/"
        },
        "id": "Q7os8XYSZ0gK",
        "outputId": "d25d4dda-a39f-4b82-aa97-9de61d1bc151"
      },
      "source": [
        "#Pad with zero variable length sequences \n",
        "#to get N x T matrix (N:num of samples, T: num of time steps)\n",
        "train_data = pad_sequences(sequence_train)\n",
        "print('Shape of train data tensor is', train_data.shape)\n",
        "\n",
        "#set sequence length\n",
        "T = train_data.shape[1]\n",
        "\n",
        "test_data = pad_sequences(sequence_test, maxlen=T) #set maxlen=T to truncate \n",
        "                                                   #longer sequences in test set\n",
        "print('Shape of test data tensor is', test_data.shape)"
      ],
      "execution_count": 10,
      "outputs": [
        {
          "output_type": "stream",
          "text": [
            "Shape of train data tensor is (3733, 162)\n",
            "Shape of test data tensor is (1839, 162)\n"
          ],
          "name": "stdout"
        }
      ]
    },
    {
      "cell_type": "code",
      "metadata": {
        "id": "hT-e9AsGirnU"
      },
      "source": [
        "#Create the model\n",
        "\n",
        "#Set embedding dimensionality\n",
        "D = 20 #hyper parameter, we can choose any size of word vector\n",
        "\n",
        "#Hidden state vector size(dimensionality)\n",
        "M = 18\n",
        "\n",
        "#Input Layer\n",
        "i = Input(shape=(T,)) #input layer takes in sequences of integers, so shape is T\n",
        "#Embedding Layer\n",
        "x = Embedding(V + 1, D)(i) #this layer takes in sequences of integers and returns sequences of \n",
        "                           #word vectors; N * T * D array\n",
        "                           #size of embedding should be (V + 1) x D because word index starts at \n",
        "                           #1 not 0\n",
        "#LSTM layer\n",
        "x = LSTM(M, return_sequences=True)(x) #since there's no encoder/decoder we return the sequences after each pass\n",
        "x = GlobalMaxPooling1D()(x)\n",
        "\n",
        "#Dense Layer\n",
        "x = Dense(1, activation='sigmoid')(x) #since it's a binary classification problem we are choosing sigmoid actiation function\n",
        "\n",
        "model = Model(i, x)"
      ],
      "execution_count": 11,
      "outputs": []
    },
    {
      "cell_type": "code",
      "metadata": {
        "id": "bGFqz3h5wKje"
      },
      "source": [
        "#Compile the model\n",
        "model.compile(optimizer='adam', loss='binary_crossentropy', metrics=['accuracy'])"
      ],
      "execution_count": 12,
      "outputs": []
    },
    {
      "cell_type": "code",
      "metadata": {
        "colab": {
          "base_uri": "https://localhost:8080/"
        },
        "id": "TElfpYcswKmq",
        "outputId": "c3ea7def-1d74-418f-9334-25da4d92ca39"
      },
      "source": [
        "#Train the model\n",
        "model_tr = model.fit(x=train_data, y=y_train, epochs=8, validation_data=(test_data, y_test))"
      ],
      "execution_count": 13,
      "outputs": [
        {
          "output_type": "stream",
          "text": [
            "Epoch 1/8\n",
            "117/117 [==============================] - 8s 64ms/step - loss: 0.4635 - accuracy: 0.8623 - val_loss: 0.3834 - val_accuracy: 0.8717\n",
            "Epoch 2/8\n",
            "117/117 [==============================] - 7s 60ms/step - loss: 0.3993 - accuracy: 0.8631 - val_loss: 0.3829 - val_accuracy: 0.8717\n",
            "Epoch 3/8\n",
            "117/117 [==============================] - 7s 62ms/step - loss: 0.3977 - accuracy: 0.8631 - val_loss: 0.3804 - val_accuracy: 0.8717\n",
            "Epoch 4/8\n",
            "117/117 [==============================] - 7s 62ms/step - loss: 0.3824 - accuracy: 0.8631 - val_loss: 0.3465 - val_accuracy: 0.8717\n",
            "Epoch 5/8\n",
            "117/117 [==============================] - 7s 62ms/step - loss: 0.2383 - accuracy: 0.9089 - val_loss: 0.1327 - val_accuracy: 0.9761\n",
            "Epoch 6/8\n",
            "117/117 [==============================] - 7s 61ms/step - loss: 0.0620 - accuracy: 0.9938 - val_loss: 0.0728 - val_accuracy: 0.9826\n",
            "Epoch 7/8\n",
            "117/117 [==============================] - 7s 61ms/step - loss: 0.0264 - accuracy: 0.9957 - val_loss: 0.0663 - val_accuracy: 0.9842\n",
            "Epoch 8/8\n",
            "117/117 [==============================] - 7s 61ms/step - loss: 0.0140 - accuracy: 0.9984 - val_loss: 0.0633 - val_accuracy: 0.9853\n"
          ],
          "name": "stdout"
        }
      ]
    },
    {
      "cell_type": "code",
      "metadata": {
        "colab": {
          "base_uri": "https://localhost:8080/",
          "height": 265
        },
        "id": "_lIYvEjCwKp4",
        "outputId": "93ecbf87-c394-45fc-c0f6-1226456b6719"
      },
      "source": [
        "#Plot loss per iteration\n",
        "plt.plot(model_tr.history['loss'], label='Loss')\n",
        "plt.plot(model_tr.history['val_loss'], label='Validation Loss')\n",
        "plt.legend()\n",
        "plt.show()"
      ],
      "execution_count": 14,
      "outputs": [
        {
          "output_type": "display_data",
          "data": {
            "image/png": "[encoded data removed]",
            "text/plain": [
              "<Figure size 432x288 with 1 Axes>"
            ]
          },
          "metadata": {
            "tags": [],
            "needs_background": "light"
          }
        }
      ]
    },
    {
      "cell_type": "code",
      "metadata": {
        "colab": {
          "base_uri": "https://localhost:8080/",
          "height": 265
        },
        "id": "1tD-q9yEwKsf",
        "outputId": "66f80a99-5047-4a91-aa90-d213c016d313"
      },
      "source": [
        "#Plot accuracy per iteration\n",
        "plt.plot(model_tr.history['accuracy'], label='Accuracy')\n",
        "plt.plot(model_tr.history['val_accuracy'], label='Validation Accuracy')\n",
        "plt.legend()\n",
        "plt.show()"
      ],
      "execution_count": 15,
      "outputs": [
        {
          "output_type": "display_data",
          "data": {
            "image/png": "[encoded data removed]",
            "text/plain": [
              "<Figure size 432x288 with 1 Axes>"
            ]
          },
          "metadata": {
            "tags": [],
            "needs_background": "light"
          }
        }
      ]
    }
  ]
}