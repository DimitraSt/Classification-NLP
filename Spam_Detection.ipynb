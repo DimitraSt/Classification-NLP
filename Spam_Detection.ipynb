{
  "nbformat": 4,
  "nbformat_minor": 0,
  "metadata": {
    "colab": {
      "name": "Spam_Detection.ipynb",
      "provenance": [],
      "collapsed_sections": []
    },
    "kernelspec": {
      "name": "python3",
      "display_name": "Python 3"
    }
  },
  "cells": [
    {
      "cell_type": "code",
      "metadata": {
        "id": "VAV5lf87zhZF"
      },
      "source": [
        "#Spam Detection project using CNN with Tensorflow"
      ],
      "execution_count": 1,
      "outputs": []
    },
    {
      "cell_type": "code",
      "metadata": {
        "colab": {
          "base_uri": "https://localhost:8080/"
        },
        "id": "ETOdEpJhXUQa",
        "outputId": "584430ae-bd5b-40e9-b2b1-b47830c2e8c3"
      },
      "source": [
        "#Import packages\n",
        "import tensorflow as tf\n",
        "print(tf.__version__)\n",
        "\n",
        "import numpy as np\n",
        "import pandas as pd\n",
        "import matplotlib.pyplot as plt\n",
        "from sklearn.model_selection import train_test_split\n",
        "from tensorflow.keras.preprocessing.text import Tokenizer\n",
        "from tensorflow.keras.preprocessing.sequence import pad_sequences\n",
        "from tensorflow.keras.layers import Dense, Input, GlobalMaxPooling1D, Conv1D, MaxPooling1D, Embedding\n",
        "from tensorflow.keras.models import Model\n"
      ],
      "execution_count": 2,
      "outputs": [
        {
          "output_type": "stream",
          "text": [
            "2.3.0\n"
          ],
          "name": "stdout"
        }
      ]
    },
    {
      "cell_type": "code",
      "metadata": {
        "colab": {
          "base_uri": "https://localhost:8080/",
          "height": 204
        },
        "id": "amS0O13mXUTA",
        "outputId": "ac1ecc5b-4b86-4ccc-c0fc-31a72d91d179"
      },
      "source": [
        "#Read the data\n",
        "data = pd.read_csv('spam.csv', encoding='ISO-8859-1')\n",
        "data.head()"
      ],
      "execution_count": 3,
      "outputs": [
        {
          "output_type": "execute_result",
          "data": {
            "text/html": [
              "<div>\n",
              "<style scoped>\n",
              "    .dataframe tbody tr th:only-of-type {\n",
              "        vertical-align: middle;\n",
              "    }\n",
              "\n",
              "    .dataframe tbody tr th {\n",
              "        vertical-align: top;\n",
              "    }\n",
              "\n",
              "    .dataframe thead th {\n",
              "        text-align: right;\n",
              "    }\n",
              "</style>\n",
              "<table border=\"1\" class=\"dataframe\">\n",
              "  <thead>\n",
              "    <tr style=\"text-align: right;\">\n",
              "      <th></th>\n",
              "      <th>v1</th>\n",
              "      <th>v2</th>\n",
              "      <th>Unnamed: 2</th>\n",
              "      <th>Unnamed: 3</th>\n",
              "      <th>Unnamed: 4</th>\n",
              "    </tr>\n",
              "  </thead>\n",
              "  <tbody>\n",
              "    <tr>\n",
              "      <th>0</th>\n",
              "      <td>ham</td>\n",
              "      <td>Go until jurong point, crazy.. Available only ...</td>\n",
              "      <td>NaN</td>\n",
              "      <td>NaN</td>\n",
              "      <td>NaN</td>\n",
              "    </tr>\n",
              "    <tr>\n",
              "      <th>1</th>\n",
              "      <td>ham</td>\n",
              "      <td>Ok lar... Joking wif u oni...</td>\n",
              "      <td>NaN</td>\n",
              "      <td>NaN</td>\n",
              "      <td>NaN</td>\n",
              "    </tr>\n",
              "    <tr>\n",
              "      <th>2</th>\n",
              "      <td>spam</td>\n",
              "      <td>Free entry in 2 a wkly comp to win FA Cup fina...</td>\n",
              "      <td>NaN</td>\n",
              "      <td>NaN</td>\n",
              "      <td>NaN</td>\n",
              "    </tr>\n",
              "    <tr>\n",
              "      <th>3</th>\n",
              "      <td>ham</td>\n",
              "      <td>U dun say so early hor... U c already then say...</td>\n",
              "      <td>NaN</td>\n",
              "      <td>NaN</td>\n",
              "      <td>NaN</td>\n",
              "    </tr>\n",
              "    <tr>\n",
              "      <th>4</th>\n",
              "      <td>ham</td>\n",
              "      <td>Nah I don't think he goes to usf, he lives aro...</td>\n",
              "      <td>NaN</td>\n",
              "      <td>NaN</td>\n",
              "      <td>NaN</td>\n",
              "    </tr>\n",
              "  </tbody>\n",
              "</table>\n",
              "</div>"
            ],
            "text/plain": [
              "     v1  ... Unnamed: 4\n",
              "0   ham  ...        NaN\n",
              "1   ham  ...        NaN\n",
              "2  spam  ...        NaN\n",
              "3   ham  ...        NaN\n",
              "4   ham  ...        NaN\n",
              "\n",
              "[5 rows x 5 columns]"
            ]
          },
          "metadata": {
            "tags": []
          },
          "execution_count": 3
        }
      ]
    },
    {
      "cell_type": "code",
      "metadata": {
        "id": "63cwzyIfXUWG"
      },
      "source": [
        "#Data Preprocessing\n",
        "#Remove unnecessary columns\n",
        "data = data.drop(columns=['Unnamed: 2','Unnamed: 3','Unnamed: 4'], axis=1)"
      ],
      "execution_count": 4,
      "outputs": []
    },
    {
      "cell_type": "code",
      "metadata": {
        "colab": {
          "base_uri": "https://localhost:8080/",
          "height": 204
        },
        "id": "XyyMf9jpXUX7",
        "outputId": "c86cf0c3-e038-4aec-b1f9-7390b10c6884"
      },
      "source": [
        "#Rename the rest of columns\n",
        "data.columns = ['Label', 'Data']\n",
        "data.head()"
      ],
      "execution_count": 5,
      "outputs": [
        {
          "output_type": "execute_result",
          "data": {
            "text/html": [
              "<div>\n",
              "<style scoped>\n",
              "    .dataframe tbody tr th:only-of-type {\n",
              "        vertical-align: middle;\n",
              "    }\n",
              "\n",
              "    .dataframe tbody tr th {\n",
              "        vertical-align: top;\n",
              "    }\n",
              "\n",
              "    .dataframe thead th {\n",
              "        text-align: right;\n",
              "    }\n",
              "</style>\n",
              "<table border=\"1\" class=\"dataframe\">\n",
              "  <thead>\n",
              "    <tr style=\"text-align: right;\">\n",
              "      <th></th>\n",
              "      <th>Label</th>\n",
              "      <th>Data</th>\n",
              "    </tr>\n",
              "  </thead>\n",
              "  <tbody>\n",
              "    <tr>\n",
              "      <th>0</th>\n",
              "      <td>ham</td>\n",
              "      <td>Go until jurong point, crazy.. Available only ...</td>\n",
              "    </tr>\n",
              "    <tr>\n",
              "      <th>1</th>\n",
              "      <td>ham</td>\n",
              "      <td>Ok lar... Joking wif u oni...</td>\n",
              "    </tr>\n",
              "    <tr>\n",
              "      <th>2</th>\n",
              "      <td>spam</td>\n",
              "      <td>Free entry in 2 a wkly comp to win FA Cup fina...</td>\n",
              "    </tr>\n",
              "    <tr>\n",
              "      <th>3</th>\n",
              "      <td>ham</td>\n",
              "      <td>U dun say so early hor... U c already then say...</td>\n",
              "    </tr>\n",
              "    <tr>\n",
              "      <th>4</th>\n",
              "      <td>ham</td>\n",
              "      <td>Nah I don't think he goes to usf, he lives aro...</td>\n",
              "    </tr>\n",
              "  </tbody>\n",
              "</table>\n",
              "</div>"
            ],
            "text/plain": [
              "  Label                                               Data\n",
              "0   ham  Go until jurong point, crazy.. Available only ...\n",
              "1   ham                      Ok lar... Joking wif u oni...\n",
              "2  spam  Free entry in 2 a wkly comp to win FA Cup fina...\n",
              "3   ham  U dun say so early hor... U c already then say...\n",
              "4   ham  Nah I don't think he goes to usf, he lives aro..."
            ]
          },
          "metadata": {
            "tags": []
          },
          "execution_count": 5
        }
      ]
    },
    {
      "cell_type": "code",
      "metadata": {
        "id": "T0I-oTwsZnie"
      },
      "source": [
        "#Convert object type labels to binary type labels\n",
        "data['Binary'] = data['Label'].map({'ham': 0, 'spam': 1})\n",
        "y = data['Binary'].values"
      ],
      "execution_count": 6,
      "outputs": []
    },
    {
      "cell_type": "code",
      "metadata": {
        "id": "HRjYP-FaZ0ZC"
      },
      "source": [
        "#Split data into Train/Test sets\n",
        "x_train, x_test, y_train, y_test = train_test_split(data['Data'], y, test_size=0.33)"
      ],
      "execution_count": 7,
      "outputs": []
    },
    {
      "cell_type": "code",
      "metadata": {
        "id": "8EG1eTn9Z0bb"
      },
      "source": [
        "#Convert sentences to sequences\n",
        "max_vocab_size = 20000\n",
        "#tokenization\n",
        "tokenizer = Tokenizer(num_words=max_vocab_size)\n",
        "#fit train data into tokenizer object\n",
        "tokenizer.fit_on_texts(x_train)\n",
        "#transform text into sequences on both sets\n",
        "sequence_train = tokenizer.texts_to_sequences(x_train)\n",
        "sequence_test = tokenizer.texts_to_sequences(x_test)"
      ],
      "execution_count": 8,
      "outputs": []
    },
    {
      "cell_type": "code",
      "metadata": {
        "colab": {
          "base_uri": "https://localhost:8080/"
        },
        "id": "M04lR9MUZ0eC",
        "outputId": "66d6ecfc-4c9f-40a4-8d0b-ff5aaf38ae2e"
      },
      "source": [
        "#Get the vocabulary\n",
        "word2idx = tokenizer.word_index\n",
        "V = len(word2idx)\n",
        "\n",
        "print('Total number of unique tokens is %s' % V)"
      ],
      "execution_count": 9,
      "outputs": [
        {
          "output_type": "stream",
          "text": [
            "Total number of unique tokens is 7123\n"
          ],
          "name": "stdout"
        }
      ]
    },
    {
      "cell_type": "code",
      "metadata": {
        "colab": {
          "base_uri": "https://localhost:8080/"
        },
        "id": "Q7os8XYSZ0gK",
        "outputId": "26be909d-747c-44a8-eef5-19553014287a"
      },
      "source": [
        "#Pad with zero variable length sequences \n",
        "#to get N x T matrix (N:num of samples, T: num of time steps)\n",
        "train_data = pad_sequences(sequence_train)\n",
        "print('Shape of train data tensor is', train_data.shape)\n",
        "\n",
        "#set sequence length\n",
        "T = train_data.shape[1]\n",
        "\n",
        "test_data = pad_sequences(sequence_test, maxlen=T) #set maxlen=T to truncate \n",
        "                                                   #longer sequences in test set\n",
        "print('Shape of test data tensor is', test_data.shape)"
      ],
      "execution_count": 10,
      "outputs": [
        {
          "output_type": "stream",
          "text": [
            "Shape of train data tensor is (3733, 189)\n",
            "Shape of test data tensor is (1839, 189)\n"
          ],
          "name": "stdout"
        }
      ]
    },
    {
      "cell_type": "code",
      "metadata": {
        "id": "hT-e9AsGirnU"
      },
      "source": [
        "#Create the model\n",
        "\n",
        "#Choose embedding dimensionality\n",
        "D = 20 #hyper parameter, we can choose any size of word vector\n",
        "\n",
        "#Input Layer\n",
        "i = Input(shape=(T,)) #input layer takes in sequences of integers, so shape is T\n",
        "#Embedding Layer\n",
        "x = Embedding(V + 1, D)(i) #this layer takes in sequences of integers and returns sequences of \n",
        "                           #word vectors; N * T * D array\n",
        "                           #size of embedding should be (V + 1) x D because word index starts at \n",
        "                           #1 not 0\n",
        "#Create a 3-layer CNN\n",
        "#First layer\n",
        "x = Conv1D(32, 3, activation='relu')(x)\n",
        "x = MaxPooling1D(3)(x)\n",
        "#Second Layer\n",
        "x = Conv1D(64, 3, activation='relu')(x)\n",
        "x = MaxPooling1D(3)(x)\n",
        "#Third Layer\n",
        "x = Conv1D(128, 3, activation='relu')(x)\n",
        "x = GlobalMaxPooling1D()(x)\n",
        "\n",
        "#Dense Layer\n",
        "x = Dense(1, activation='sigmoid')(x)\n",
        "\n",
        "model = Model(i, x)"
      ],
      "execution_count": 11,
      "outputs": []
    },
    {
      "cell_type": "code",
      "metadata": {
        "id": "bGFqz3h5wKje"
      },
      "source": [
        "#Compile the model\n",
        "model.compile(optimizer='adam', loss='binary_crossentropy', metrics=['accuracy'])"
      ],
      "execution_count": 12,
      "outputs": []
    },
    {
      "cell_type": "code",
      "metadata": {
        "colab": {
          "base_uri": "https://localhost:8080/"
        },
        "id": "TElfpYcswKmq",
        "outputId": "10525498-cad0-43a0-e046-e8e0bc29e93b"
      },
      "source": [
        "#Train the model\n",
        "model_tr = model.fit(x=train_data, y=y_train, epochs=5, validation_data=(test_data, y_test))"
      ],
      "execution_count": 13,
      "outputs": [
        {
          "output_type": "stream",
          "text": [
            "Epoch 1/5\n",
            "117/117 [==============================] - 2s 20ms/step - loss: 0.3754 - accuracy: 0.8677 - val_loss: 0.2707 - val_accuracy: 0.8624\n",
            "Epoch 2/5\n",
            "117/117 [==============================] - 2s 19ms/step - loss: 0.1476 - accuracy: 0.9379 - val_loss: 0.0936 - val_accuracy: 0.9685\n",
            "Epoch 3/5\n",
            "117/117 [==============================] - 2s 19ms/step - loss: 0.0270 - accuracy: 0.9920 - val_loss: 0.0716 - val_accuracy: 0.9842\n",
            "Epoch 4/5\n",
            "117/117 [==============================] - 2s 18ms/step - loss: 0.0072 - accuracy: 0.9984 - val_loss: 0.0788 - val_accuracy: 0.9864\n",
            "Epoch 5/5\n",
            "117/117 [==============================] - 2s 18ms/step - loss: 0.0035 - accuracy: 0.9992 - val_loss: 0.0733 - val_accuracy: 0.9869\n"
          ],
          "name": "stdout"
        }
      ]
    },
    {
      "cell_type": "code",
      "metadata": {
        "colab": {
          "base_uri": "https://localhost:8080/",
          "height": 265
        },
        "id": "_lIYvEjCwKp4",
        "outputId": "4115e03c-ebed-420c-9081-14b70894b10e"
      },
      "source": [
        "#Plot loss per iteration\n",
        "plt.plot(model_tr.history['loss'], label='Loss')\n",
        "plt.plot(model_tr.history['val_loss'], label='Validation Loss')\n",
        "plt.legend()\n",
        "plt.show()"
      ],
      "execution_count": 14,
      "outputs": [
        {
          "output_type": "display_data",
          "data": {
            "image/png": "[encoded data removed]",
            "text/plain": [
              "<Figure size 432x288 with 1 Axes>"
            ]
          },
          "metadata": {
            "tags": [],
            "needs_background": "light"
          }
        }
      ]
    },
    {
      "cell_type": "code",
      "metadata": {
        "colab": {
          "base_uri": "https://localhost:8080/",
          "height": 265
        },
        "id": "1tD-q9yEwKsf",
        "outputId": "6a61de53-38c6-4005-ea20-a3cc6a4bf273"
      },
      "source": [
        "#Plot accuracy per iteration\n",
        "plt.plot(model_tr.history['accuracy'], label='Accuracy')\n",
        "plt.plot(model_tr.history['val_accuracy'], label='Validation Accuracy')\n",
        "plt.legend()\n",
        "plt.show()"
      ],
      "execution_count": 15,
      "outputs": [
        {
          "output_type": "display_data",
          "data": {
            "image/png": "[encoded data removed]",
            "text/plain": [
              "<Figure size 432x288 with 1 Axes>"
            ]
          },
          "metadata": {
            "tags": [],
            "needs_background": "light"
          }
        }
      ]
    }
  ]
}